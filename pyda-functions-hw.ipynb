{
 "cells": [
  {
   "cell_type": "markdown",
   "metadata": {},
   "source": [
    "## Задание 1"
   ]
  },
  {
   "cell_type": "markdown",
   "metadata": {},
   "source": [
    "Дан список вида:"
   ]
  },
  {
   "cell_type": "code",
   "execution_count": 114,
   "metadata": {},
   "outputs": [],
   "source": [
    "data = [\n",
    "    [13, 25, 23, 34],\n",
    "    [45, 32, 44, 47],\n",
    "    [12, 33, 23, 95],\n",
    "    [13, 53, 34, 35]\n",
    "]"
   ]
  },
  {
   "cell_type": "markdown",
   "metadata": {},
   "source": [
    "Напишите функцию, которая возвращает сумму элементов на диагонали. Т. е. 13+32+23+35.  \n",
    "Список может быть любой длины, но всегда является \"квадратным\" (количество элементов во вложенных списках равно их количеству)."
   ]
  },
  {
   "cell_type": "code",
   "execution_count": 115,
   "metadata": {},
   "outputs": [],
   "source": [
    "def sum_diag(data):\n",
    "    i, s = [0, 0]\n",
    "    for x in data:\n",
    "        s += x[i]\n",
    "        if i ==(len(data)-1):\n",
    "            return s\n",
    "        else:\n",
    "            i += 1"
   ]
  },
  {
   "cell_type": "code",
   "execution_count": 116,
   "metadata": {},
   "outputs": [
    {
     "name": "stdout",
     "output_type": "stream",
     "text": [
      "103\n"
     ]
    }
   ],
   "source": [
    "print(sum_diag(data))"
   ]
  },
  {
   "cell_type": "markdown",
   "metadata": {},
   "source": [
    "## Задание 2"
   ]
  },
  {
   "cell_type": "markdown",
   "metadata": {},
   "source": [
    "Напишите функцию, возвращающую сумму первых n чисел Фибоначчи (для этого вам может понадобится ознакомиться с рекурсией)."
   ]
  },
  {
   "cell_type": "code",
   "execution_count": 24,
   "metadata": {},
   "outputs": [],
   "source": [
    "def fib_sum_n(n):\n",
    "    n = int(n)\n",
    "    s, cur, prev1, prev2 = [2, 0, 1, 1]\n",
    "    if n > 2:\n",
    "        for i in range(1, n-1):\n",
    "            cur = prev1 + prev2\n",
    "            s += cur\n",
    "            prev2 = prev1\n",
    "            prev1 = cur            \n",
    "        return s\n",
    "    elif n < 0:\n",
    "        print('Аргумент должен быть положительным целым числом')\n",
    "    else: \n",
    "        return n"
   ]
  },
  {
   "cell_type": "code",
   "execution_count": 37,
   "metadata": {},
   "outputs": [
    {
     "data": {
      "text/plain": [
       "33"
      ]
     },
     "execution_count": 37,
     "metadata": {},
     "output_type": "execute_result"
    }
   ],
   "source": [
    "fib_sum_n(7)"
   ]
  },
  {
   "cell_type": "markdown",
   "metadata": {},
   "source": [
    "## Задание 3\n"
   ]
  },
  {
   "cell_type": "markdown",
   "metadata": {},
   "source": [
    "Напишите функцию, преобразующую произвольный список вида ['2018-01-01', 'yandex', 'cpc', 100] (он может быть любой длины) в словарь {'2018-01-01': {'yandex': {'cpc': 100}}}"
   ]
  },
  {
   "cell_type": "code",
   "execution_count": 143,
   "metadata": {},
   "outputs": [],
   "source": [
    "a = ['2018-01-01', 'yandex', 'cpc', 100]"
   ]
  },
  {
   "cell_type": "code",
   "execution_count": 144,
   "metadata": {},
   "outputs": [],
   "source": [
    "def list_to_dict(a):\n",
    "    if len(a) > 1: \n",
    "        a.reverse()\n",
    "        dict = {}\n",
    "        dict[a[1]] = a[0]\n",
    "        for x in a[2:]:\n",
    "            new_dict = {}\n",
    "            new_dict[x] = dict\n",
    "            dict = new_dict    \n",
    "        return dict\n",
    "    else:\n",
    "        print('Список должен содержать два или более элемента')"
   ]
  },
  {
   "cell_type": "code",
   "execution_count": 145,
   "metadata": {},
   "outputs": [
    {
     "data": {
      "text/plain": [
       "{'2018-01-01': {'yandex': {'cpc': 100}}}"
      ]
     },
     "execution_count": 145,
     "metadata": {},
     "output_type": "execute_result"
    }
   ],
   "source": [
    "list_to_dict(a)"
   ]
  },
  {
   "cell_type": "markdown",
   "metadata": {},
   "source": [
    "## Задание 4"
   ]
  },
  {
   "cell_type": "markdown",
   "metadata": {},
   "source": [
    "Вы работаете секретарем и вам постоянно приходят различные документы. Вы должны быть очень внимательны, чтобы не потерять ни один документ. Каталог документов хранится в следующем виде:"
   ]
  },
  {
   "cell_type": "code",
   "execution_count": 12,
   "metadata": {},
   "outputs": [],
   "source": [
    "documents = [\n",
    "    {'type': 'passport', 'number': '2207 876234', 'name': 'Василий Гупкин'},\n",
    "    {'type': 'invoice', 'number': '11-2', 'name': 'Геннадий Покемонов'},\n",
    "    {'type': 'insurance', 'number': '10006', 'name': 'Аристарх Павлов'}\n",
    "]"
   ]
  },
  {
   "cell_type": "markdown",
   "metadata": {},
   "source": [
    "Перечень полок, на которых находятся документы хранится в следующем виде:"
   ]
  },
  {
   "cell_type": "code",
   "execution_count": 13,
   "metadata": {},
   "outputs": [],
   "source": [
    "directories = {\n",
    "    '1': ['2207 876234', '11-2', '5455 028765'],\n",
    "    '2': ['10006', '5400 028765', '5455 002299'],\n",
    "    '3': []\n",
    "}"
   ]
  },
  {
   "cell_type": "markdown",
   "metadata": {},
   "source": [
    "Необходимо реализовать пользовательские команды (внимание! это не название функций, которые должны быть выразительными, а команды, которые вводит пользователь, чтобы получить необходимый результат):\n",
    "  \n",
    "- p – people – команда, которая спросит номер документа и выведет имя человека, которому он принадлежит;  \n",
    "- s – shelf – команда, которая спросит номер документа и выведет номер полки, на которой он находится  \n",
    "Правильно обработайте ситуацию, когда пользователь будет вводить несуществующий документ.\n",
    "- l – list – команда, которая выведет список всех документов в формате   \n",
    "**passport \"2207 876234\" \"Василий Гупкин\"**  \n",
    "- as – add shelf – команда, которая спросит номер новой полки и добавит ее в перечень\n",
    "- d – delete – команда, которая спросит номер документа и удалит его из каталога и из перечня полок. Предусмотрите сценарий, когда пользователь вводит несуществующий документ;  \n",
    "- m – move – команда, которая спросит номер документа и целевую полку и переместит его с текущей полки на целевую. Корректно обработайте кейсы, когда пользователь пытается переместить несуществующий документ или переместить документ на несуществующую полку;  \n",
    "- a – add – команда, которая добавит новый документ в каталог и в перечень полок, спросив его номер, тип, имя владельца и номер полки, на котором он будет храниться."
   ]
  },
  {
   "cell_type": "markdown",
   "metadata": {},
   "source": [
    "## Команда people"
   ]
  },
  {
   "cell_type": "code",
   "execution_count": null,
   "metadata": {},
   "outputs": [],
   "source": [
    "def p():\n",
    "    \"\"\"\n",
    "    Возвращает имя человека по номеру документа\n",
    "    \n",
    "    \"\"\"\n",
    "    doc = input('Введите номер документа ')\n",
    "    for x in documents:\n",
    "        if x['number'] == doc:\n",
    "            return print(x['name'])\n",
    "    print('Такого документа нет в базе')   \n",
    "\n",
    "p()"
   ]
  },
  {
   "cell_type": "markdown",
   "metadata": {},
   "source": [
    "## Команда shelf"
   ]
  },
  {
   "cell_type": "code",
   "execution_count": 48,
   "metadata": {},
   "outputs": [
    {
     "name": "stdout",
     "output_type": "stream",
     "text": [
      "Введите номер документа 10006\n"
     ]
    },
    {
     "data": {
      "text/plain": [
       "'Номер полки 2'"
      ]
     },
     "execution_count": 48,
     "metadata": {},
     "output_type": "execute_result"
    }
   ],
   "source": [
    "def s():\n",
    "    \"\"\"\n",
    "    По номеру документа выводит номер полки, на которой он находится\n",
    "    \n",
    "    \"\"\"\n",
    "    doc = input('Введите номер документа ')\n",
    "    for x in directories:\n",
    "        if doc in directories[x]:\n",
    "            return f'Номер полки {x}'            \n",
    "    print('Такого документа нет в базе')\n",
    "\n",
    "s()    "
   ]
  },
  {
   "cell_type": "markdown",
   "metadata": {},
   "source": [
    "## Команда list"
   ]
  },
  {
   "cell_type": "code",
   "execution_count": 62,
   "metadata": {},
   "outputs": [
    {
     "name": "stdout",
     "output_type": "stream",
     "text": [
      "passport \"2207 876234\" \"Василий Гупкин\"\n",
      "invoice \"11-2\" \"Геннадий Покемонов\"\n",
      "insurance \"10006\" \"Аристарх Павлов\"\n"
     ]
    }
   ],
   "source": [
    "def l():\n",
    "    \"\"\"\n",
    "    Выводит список всех документов\n",
    "\n",
    "    \"\"\"\n",
    "    for x in documents:\n",
    "        print(x['type'],' \"',x['number'],'\" \"',x['name'], '\"', sep = '')\n",
    "l()"
   ]
  },
  {
   "cell_type": "markdown",
   "metadata": {},
   "source": [
    "## Команда add shelf"
   ]
  },
  {
   "cell_type": "code",
   "execution_count": 83,
   "metadata": {},
   "outputs": [],
   "source": [
    "# Python doesn't alow use of \"as\" as function name\n",
    "\n",
    "def add_shelf():\n",
    "    \"\"\"\n",
    "    Добавляет полку по номеру\n",
    "\n",
    "    \"\"\"\n",
    "    shelf = input('Введите номер полки ')\n",
    "    if shelf not in directories.keys():\n",
    "        directories[shelf] = {}\n",
    "        return\n",
    "    print('Такая полка уже существует')  "
   ]
  },
  {
   "cell_type": "code",
   "execution_count": 81,
   "metadata": {},
   "outputs": [
    {
     "name": "stdout",
     "output_type": "stream",
     "text": [
      "Введите номер полки 6\n",
      "{'1': ['2207 876234', '11-2', '5455 028765'], '2': ['10006', '5400 028765', '5455 002299'], '3': [], '6': {}}\n"
     ]
    }
   ],
   "source": [
    "add_shelf() \n",
    "print(directories)"
   ]
  },
  {
   "cell_type": "markdown",
   "metadata": {},
   "source": [
    "## Команда delete"
   ]
  },
  {
   "cell_type": "code",
   "execution_count": 3,
   "metadata": {},
   "outputs": [],
   "source": [
    "def d():\n",
    "    \"\"\"\n",
    "    По номеру документа удалит его из каталога и из перечня полок. \n",
    "\n",
    "    \"\"\"\n",
    "    doc = input('Введите номер документа ')\n",
    "    allvalues = []\n",
    "    for x in directories:\n",
    "        for c in directories[x]:\n",
    "            allvalues.append(c)\n",
    "    if doc not in allvalues:\n",
    "        print('Такого документа нет в базе')  \n",
    "    else:    \n",
    "        for a in directories.values():\n",
    "            if doc in a:\n",
    "                for x in documents:\n",
    "                    if x['number'] == doc:\n",
    "                        documents.remove(x)\n",
    "                for x in directories:\n",
    "                    if doc in directories[x]:\n",
    "                        directories[x].remove(doc)"
   ]
  },
  {
   "cell_type": "code",
   "execution_count": 4,
   "metadata": {},
   "outputs": [
    {
     "name": "stdout",
     "output_type": "stream",
     "text": [
      "Введите номер документа 11-2\n",
      "{'1': ['2207 876234', '5455 028765'], '2': ['10006', '5400 028765', '5455 002299'], '3': []} [{'type': 'passport', 'number': '2207 876234', 'name': 'Василий Гупкин'}, {'type': 'insurance', 'number': '10006', 'name': 'Аристарх Павлов'}]\n"
     ]
    }
   ],
   "source": [
    "d()\n",
    "print(directories, documents)\n"
   ]
  },
  {
   "cell_type": "markdown",
   "metadata": {},
   "source": [
    "## Команда move"
   ]
  },
  {
   "cell_type": "code",
   "execution_count": 3,
   "metadata": {},
   "outputs": [],
   "source": [
    "def m():\n",
    "    \"\"\"\n",
    "    По номеру документа и целевой полки и переместит его с текущей полки на целевую. \n",
    "    \n",
    "    \"\"\"\n",
    "    doc = input('Введите номер документа ')\n",
    "    shelf = input('Введите номер целевой полки ')\n",
    "    allvalues, shelf_doc = [[], []]\n",
    "    \n",
    "    for x in directories:\n",
    "        for c in directories[x]:\n",
    "            allvalues.append(c)\n",
    "    if doc in allvalues and shelf in directories.keys():\n",
    "        for x in directories:\n",
    "            if doc in directories[x]:\n",
    "                directories[x].remove(doc)  \n",
    "        for x in directories[shelf]:\n",
    "            shelf_doc.append(x)\n",
    "        shelf_doc.append(doc)\n",
    "        directories[shelf] = shelf_doc\n",
    "        \n",
    "    else:\n",
    "        if doc not in allvalues:\n",
    "            print('Такого документа нет в базе')\n",
    "        if shelf not in directories.keys():\n",
    "            print('Такой полки не существует')"
   ]
  },
  {
   "cell_type": "code",
   "execution_count": 4,
   "metadata": {},
   "outputs": [
    {
     "name": "stdout",
     "output_type": "stream",
     "text": [
      "Введите номер документа 11-2\n",
      "Введите номер целевой полки 3\n"
     ]
    }
   ],
   "source": [
    "m()"
   ]
  },
  {
   "cell_type": "code",
   "execution_count": 6,
   "metadata": {},
   "outputs": [
    {
     "name": "stdout",
     "output_type": "stream",
     "text": [
      "{'1': ['2207 876234', '5455 028765'], '2': ['10006', '5400 028765', '5455 002299'], '3': ['11-2']}\n"
     ]
    }
   ],
   "source": [
    "print(directories)"
   ]
  },
  {
   "cell_type": "markdown",
   "metadata": {},
   "source": [
    "## Команда add"
   ]
  },
  {
   "cell_type": "code",
   "execution_count": 3,
   "metadata": {},
   "outputs": [],
   "source": [
    "def a():\n",
    "    \"\"\"\n",
    "    Добавит новый документ в каталог и в перечень полок\n",
    "    \"\"\"\n",
    "    number = input('Введите номер документа ')\n",
    "    tip = input('Введите тип документа ')\n",
    "    name = input('Введите имя владельца ')\n",
    "    shelf = input('Введите номер полки ')\n",
    "    \n",
    "    if shelf in directories.keys():\n",
    "        shelf_doc = []\n",
    "        for x in directories[shelf]:\n",
    "            shelf_doc.append(x)\n",
    "        shelf_doc.append(number)\n",
    "        directories[shelf] = shelf_doc\n",
    "    else:\n",
    "        return print('Такой полки не существует')\n",
    "    \n",
    "    doc = {}\n",
    "    doc['type'] = tip\n",
    "    doc['number'] = number\n",
    "    doc['name'] = name\n",
    "    documents.append(doc)  "
   ]
  },
  {
   "cell_type": "code",
   "execution_count": 10,
   "metadata": {},
   "outputs": [
    {
     "name": "stdout",
     "output_type": "stream",
     "text": [
      "Введите номер документа 1566\n",
      "Введите тип документа passport\n",
      "Введите имя владельца Tatyana Denisova\n",
      "Введите номер полки 3\n"
     ]
    }
   ],
   "source": [
    "a()"
   ]
  },
  {
   "cell_type": "code",
   "execution_count": 11,
   "metadata": {},
   "outputs": [
    {
     "name": "stdout",
     "output_type": "stream",
     "text": [
      "{'1': ['2207 876234', '11-2', '5455 028765'], '2': ['10006', '5400 028765', '5455 002299'], '3': ['1566']}\n",
      "[{'type': 'passport', 'number': '2207 876234', 'name': 'Василий Гупкин'}, {'type': 'invoice', 'number': '11-2', 'name': 'Геннадий Покемонов'}, {'type': 'insurance', 'number': '10006', 'name': 'Аристарх Павлов'}, {'type': 'passport', 'number': '1566', 'name': 'Tatyana Denisova'}]\n"
     ]
    }
   ],
   "source": [
    "print(directories)\n",
    "print(documents)"
   ]
  },
  {
   "cell_type": "code",
   "execution_count": null,
   "metadata": {},
   "outputs": [],
   "source": []
  }
 ],
 "metadata": {
  "kernelspec": {
   "display_name": "Python 3",
   "language": "python",
   "name": "python3"
  },
  "language_info": {
   "codemirror_mode": {
    "name": "ipython",
    "version": 3
   },
   "file_extension": ".py",
   "mimetype": "text/x-python",
   "name": "python",
   "nbconvert_exporter": "python",
   "pygments_lexer": "ipython3",
   "version": "3.7.4"
  }
 },
 "nbformat": 4,
 "nbformat_minor": 2
}
